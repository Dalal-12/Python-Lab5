{
 "cells": [
  {
   "cell_type": "code",
   "execution_count": 27,
   "id": "0b053007",
   "metadata": {},
   "outputs": [
    {
     "name": "stdout",
     "output_type": "stream",
     "text": [
      "5  4  3  2  1  \n",
      "4  3  2  1  \n",
      "3  2  1  \n",
      "2  1  \n",
      "1  \n"
     ]
    }
   ],
   "source": [
    "def print_num(num):\n",
    "    for i in range(num,0,-1):\n",
    "        for x in range(i,0,-1):\n",
    "            print(x, end=\"  \")\n",
    "        print()\n",
    "        \n",
    "print_num(5)"
   ]
  },
  {
   "cell_type": "code",
   "execution_count": null,
   "id": "39f66760",
   "metadata": {},
   "outputs": [],
   "source": []
  }
 ],
 "metadata": {
  "kernelspec": {
   "display_name": "Python 3 (ipykernel)",
   "language": "python",
   "name": "python3"
  },
  "language_info": {
   "codemirror_mode": {
    "name": "ipython",
    "version": 3
   },
   "file_extension": ".py",
   "mimetype": "text/x-python",
   "name": "python",
   "nbconvert_exporter": "python",
   "pygments_lexer": "ipython3",
   "version": "3.11.4"
  }
 },
 "nbformat": 4,
 "nbformat_minor": 5
}
